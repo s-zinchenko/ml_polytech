{
 "cells": [
  {
   "cell_type": "markdown",
   "id": "cc971bf9-c771-4679-96a3-40d20352bbe2",
   "metadata": {},
   "source": [
    "# Многослойная нейронная сеть\n",
    "\n",
    "Задание: создать модель используя нейронную сеть с полносвязными слоями, подобрать гиперпараметры и протестировать на тестовой выборке.\n",
    "\n",
    "Порядок выполнения:\n",
    "1. Загрузить базу данных по варианту;\n",
    "1. Разделить данные на выборки: обучающую, проверочную и тестовую;\n",
    "1. Провести предварительную обработку данных;\n",
    "1. Используя фреймворк PyTorch создать нейронную сеть;\n",
    "1. Обучить нейронную сеть;\n",
    "1. Подобрать гиперпараметры;\n",
    "1. Оценить результаты лучшей модели на тестовой выборке.\n",
    "\n",
    "Ссылки:\n",
    "1. [Официальная документация](https://pytorch.org/docs/stable/index.html)\n",
    "1. [Туториал по PyTorch](https://neurohive.io/ru/tutorial/glubokoe-obuchenie-s-pytorch/)"
   ]
  },
  {
   "cell_type": "markdown",
   "id": "42fbab4d-87b4-4ec8-8115-91498cd4551f",
   "metadata": {},
   "source": [
    "## Варианты\n",
    "\n",
    "\n",
    "Вариант1 - Kuzushiji-MNIST [Unown-MNIST на github](https://github.com/lopeLH/unown-mnist)2\n",
    "\n",
    "Вариант2 - DermaMNIST [MedMNIST v2 на github](https://github.com/MedMNIST/MedMNIST)3\n",
    "\n",
    "Вариант3 - CINIC-10 [CINIC-10 на github](https://github.com/BayesWatch/cinic-10)4\n",
    "\n",
    "Вариант4 - Simpsons-MNIST-Grayscale [Simpsons-MNIST на Github](https://github.com/alvarobartt/simpsons-mnist)5"
   ]
  },
  {
   "cell_type": "code",
   "execution_count": null,
   "id": "67e904e6-e0bb-4ea2-90c2-9499f99c1b85",
   "metadata": {},
   "outputs": [],
   "source": [
    "# Импортируйте PyTorch и необходимые модули для работы с фреймворком\n",
    "\n"
   ]
  },
  {
   "cell_type": "code",
   "execution_count": null,
   "id": "08e18424-24e8-420a-9c92-103389a6f378",
   "metadata": {},
   "outputs": [],
   "source": [
    "# Загрузите данные\n",
    "\n",
    "# Ваш код\n",
    "\n",
    "# Создайте объекты DataLoader для ваших выборок, размер пакета (batch) выбирите 32, 64 или 128\n",
    "\n",
    "train_dataloader =  # DataLoader()\n",
    "val_dataloader = # DataLoader()\n",
    "test_dataloader = # DataLoader()"
   ]
  },
  {
   "cell_type": "code",
   "execution_count": null,
   "id": "cbd6cc6b-2d65-4f10-9351-997581e86b79",
   "metadata": {},
   "outputs": [],
   "source": [
    "# Напишите ответ какого ранга тензор, содержащий 1 пакет ваших данных и укажите размерности этого тензора\n",
    "\n",
    "# Ваш ответ"
   ]
  },
  {
   "cell_type": "code",
   "execution_count": null,
   "id": "633c7bdd-bf4d-4e42-8418-aa432f16801a",
   "metadata": {},
   "outputs": [],
   "source": [
    "# Код для получения доступных устройств, которые потом можно задействовать при обучении\n",
    "\n",
    "device = (\n",
    "    \"cuda\"\n",
    "    if torch.cuda.is_available()\n",
    "    else \"mps\"\n",
    "    if torch.backends.mps.is_available()  # Для mps device enables high-performance training on GPU for MacOS devices with Metal programming framework\n",
    "    else \"cpu\"\n",
    ")\n",
    "print(f\"Используется {device}\")"
   ]
  },
  {
   "cell_type": "code",
   "execution_count": null,
   "id": "e5a17680-a24d-4c40-8e6a-88ef27d41424",
   "metadata": {},
   "outputs": [],
   "source": [
    "# Напишите вашу реализацию NeuralNetwork для нейронной сети\n",
    "# Не забудьте преобразовать ваши данные в одномерный тензор с помощью flatten()\n",
    "\n",
    "class NeuralNetwork(nn.Module):\n",
    "    def __init__(self):\n",
    "        super().__init__()\n",
    "        \n",
    "        # Ваш код\n",
    "        pass\n",
    "\n",
    "    def forward(self, x):\n",
    "\n",
    "        # Ваш код\n",
    "        pass"
   ]
  },
  {
   "cell_type": "code",
   "execution_count": null,
   "id": "31bab33b-5d1e-4c90-a52f-d0ea6dd613ce",
   "metadata": {},
   "outputs": [],
   "source": [
    "# Для экземпляра вашей нейронной сети можно использовать метод .to(device), чтобы перенести на GPU, если она доступна\n",
    "# Если вы используете .to(device) для модели, то не забудьте батчи и метки тоже перенести.\n",
    "\n",
    "model = NeuralNetwork()  # .to(device)\n",
    "print(model)"
   ]
  },
  {
   "cell_type": "code",
   "execution_count": null,
   "id": "0fddcf54-1aa0-47e0-9851-0bd4f9c52648",
   "metadata": {},
   "outputs": [],
   "source": [
    "# попробуйте сперва обучить модель с этими гиперпараметрами\n",
    "learning_rate = 1e-3\n",
    "epochs = 3\n",
    "\n",
    "# выбирите функцию потерь для вашей задачи\n",
    "loss_fn = None\n",
    "\n",
    "# выбирите один из оптимизаторов и укажите подходящие параметры\n",
    "optimizer = None"
   ]
  },
  {
   "cell_type": "code",
   "execution_count": null,
   "id": "0a0877c9-5dd9-4b11-818d-e9b8a8ef08f2",
   "metadata": {},
   "outputs": [],
   "source": [
    "def train_loop(dataloader, model, loss_fn, optimizer):\n",
    "    size = len(dataloader.dataset)\n",
    "    # Переключим модель в режим обучния\n",
    "    model.train()\n",
    "    for batch, (X, y) in enumerate(dataloader):\n",
    "        # Вычислите предсказание, потери и метрики точности\n",
    "        # Сохраните значение потерь и точности для построения графика\n",
    "        # Ваш код\n",
    "\n",
    "        # Обратное распространение ошибки, не забудьте обнулить градиенты\n",
    "        # Ваш код\n",
    "\n",
    "\n",
    "def test_loop(dataloader, model, loss_fn):\n",
    "    # Переключим модель в режим оценки\n",
    "    model.eval()\n",
    "    size = len(dataloader.dataset)\n",
    "    num_batches = len(dataloader)\n",
    "    test_loss, correct = 0, 0\n",
    "\n",
    "    # Оценка модели в контексте torch.no_grad() гарантирует, что в тестовом режиме градиенты не будут вычисляться.\n",
    "    with torch.no_grad():\n",
    "        for X, y in dataloader:\n",
    "            # Напишите код для расчета предсказаний, потерь и метрики точности\n",
    "            # Сохраните значение потерь и точности для построения графика\n",
    "            # Ваш код"
   ]
  },
  {
   "cell_type": "code",
   "execution_count": null,
   "id": "47a74555-9914-45df-89d9-cf8f45290602",
   "metadata": {},
   "outputs": [],
   "source": [
    "for t in range(epochs):\n",
    "    train_loop(train_dataloader, model, loss_fn, optimizer)\n",
    "    test_loop(test_dataloader, model, loss_fn)\n",
    "\n",
    "# Постройте графики потерь и точности на обучающей и валидационной выборках.\n",
    "# По графикам оцените как шло обучение модели."
   ]
  },
  {
   "cell_type": "markdown",
   "id": "aab86199-2c79-4ef0-88c8-c19a0985a4f0",
   "metadata": {},
   "source": [
    "## Подбор гиперпараметров"
   ]
  },
  {
   "cell_type": "code",
   "execution_count": null,
   "id": "afb10264-29ba-48d5-b641-feaf931efbba",
   "metadata": {},
   "outputs": [],
   "source": [
    "# Задание: подберите гиперпараметры сети используя валидационную выборку. \n",
    "# Попробуйте разные варианты архитектуры (глубина, ширина), количество эпох, скорость обучения.\n",
    "# Возможно нормализация данных поможет повысить точность.\n",
    "# Из не менее 6 вариантов модели выбирите лучшую и сохраните в best_net\n",
    "\n",
    "# Ваш код\n",
    "\n",
    "best_net = None # сохраните лучший экземпляр вашей сети"
   ]
  },
  {
   "cell_type": "markdown",
   "id": "acc3ca00-e3fe-4ebd-b273-6ee26d4f115a",
   "metadata": {},
   "source": [
    "## Установка модуля для оценки модели\n",
    "\n",
    "С помощью модуля torchinfo оцените размер вашей модели и количество параметров\n",
    "\n",
    "[torchinfo на github](https://github.com/TylerYep/torchinfo)\n",
    "\n",
    "Команды для выполнения в терминале\n",
    "```\n",
    "pip install torchinfo\n",
    "```\n",
    "\n",
    "```\n",
    "conda install -c conda-forge torchinfo\n",
    "```\n",
    "\n",
    "```\n",
    "mamba install -c conda-forge torchinfo\n",
    "```\n",
    "\n",
    "Если необходимо выполнить команду в самой среде Jupyter то перед командой добавьте !, например:\n",
    "\n",
    "```\n",
    "!pip install torchinfo\n",
    "```"
   ]
  },
  {
   "cell_type": "code",
   "execution_count": null,
   "id": "90502e76-3797-4f4f-a784-fff9cbb30b9e",
   "metadata": {},
   "outputs": [],
   "source": [
    "from torchinfo import summary\n",
    "summary(best_net, input_size=(None))  # в input_size укажите правильные размерности 1 пакета данных"
   ]
  },
  {
   "cell_type": "markdown",
   "id": "76f95927-08bf-48e2-ba42-9676b0624ddb",
   "metadata": {},
   "source": [
    "### Запуск на тестовой выборке\n",
    "\n",
    "Осталось получить финальные показатели точности для лучшей модели на **тестовой выборке**"
   ]
  },
  {
   "cell_type": "code",
   "execution_count": null,
   "id": "a172e92f-c6cb-4f69-8431-9a0a0ffddc1d",
   "metadata": {},
   "outputs": [],
   "source": [
    "test_acc =  # Ваш код\n",
    "print('Точность на тестовой выборке: ', test_acc)"
   ]
  },
  {
   "cell_type": "code",
   "execution_count": null,
   "id": "ad7ea233-ad48-4ac1-96b7-19b4392acc92",
   "metadata": {},
   "outputs": [],
   "source": [
    "# Постройте матрицу смешения (confusion matrix)\n",
    "# Опишите гипотезу о возможных проблемах вашей модели"
   ]
  },
  {
   "cell_type": "code",
   "execution_count": null,
   "id": "c1db7e4d-a62b-4125-92de-a4f4a020eb85",
   "metadata": {},
   "outputs": [],
   "source": [
    "# Можете сохранить модель и переиспользовать ее в будущем.\n",
    "\n",
    "# torch.save(model, 'model.pth')"
   ]
  },
  {
   "cell_type": "markdown",
   "id": "d3bcaa36-115b-4e71-ac22-39728d4efc34",
   "metadata": {},
   "source": [
    "## Контрольные вопросы\n",
    "\n",
    "1. Что такое гиперпараметры модели?\n",
    "2. Как можно осуществлять подбор гиперпараметров?\n",
    "3. Зачем данные передавать пакетами (batch)?\n",
    "3. На что влияет размер пакета (batch)?\n",
    "4. Расскажите основные этапы цикла обучения (train loop)\n",
    "5. Из каких модулей строится модель в Pytorch?\n",
    "6. Какая или какие функции потерь подходят для задачи классификации?\n",
    "7. Какую информацию вы можете извлечь из графиков потерь и точности?"
   ]
  }
 ],
 "metadata": {
  "kernelspec": {
   "display_name": "Python 3 (ipykernel)",
   "language": "python",
   "name": "python3"
  },
  "language_info": {
   "codemirror_mode": {
    "name": "ipython",
    "version": 3
   },
   "file_extension": ".py",
   "mimetype": "text/x-python",
   "name": "python",
   "nbconvert_exporter": "python",
   "pygments_lexer": "ipython3",
   "version": "3.10.12"
  }
 },
 "nbformat": 4,
 "nbformat_minor": 5
}
